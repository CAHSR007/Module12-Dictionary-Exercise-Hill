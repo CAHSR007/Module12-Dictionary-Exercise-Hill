{
 "cells": [
  {
   "cell_type": "markdown",
   "metadata": {},
   "source": [
    "### Exercise 1. \n",
    "Create a dictionary named pairs with key value pairs of:\n",
    "    - 'hello' and 'fire', \n",
    "    - 3 and 'seven', \n",
    "    - 'strong' and 45. \n",
    "\n",
    "Then, print out the dictionary."
   ]
  },
  {
   "cell_type": "code",
   "execution_count": 1,
   "metadata": {},
   "outputs": [
    {
     "name": "stdout",
     "output_type": "stream",
     "text": [
      "{'hello': 'fire', 3: 'seven', 'strong': 45}\n"
     ]
    }
   ],
   "source": [
    "# Create a dictionary named pairs \n",
    "\n",
    "pairs = {\"hello\": \"fire\", 3: \"seven\", \"strong\" : 45}\n",
    "print(pairs)"
   ]
  },
  {
   "cell_type": "markdown",
   "metadata": {},
   "source": [
    "### Exercise 2. \n",
    "Add 'welcome' and 56 pair into <b><i>pairs</i></b> dictionary from exercise 1. Then, print out the dictionary. "
   ]
  },
  {
   "cell_type": "code",
   "execution_count": 2,
   "metadata": {
    "scrolled": true
   },
   "outputs": [
    {
     "name": "stdout",
     "output_type": "stream",
     "text": [
      "{'hello': 'fire', 3: 'seven', 'strong': 45, 'welcome': 56}\n"
     ]
    }
   ],
   "source": [
    "pairs ['welcome'] = 56\n",
    "print(pairs)"
   ]
  },
  {
   "cell_type": "markdown",
   "metadata": {},
   "source": [
    "### Exercise 3. \n",
    "Delete one item from <b><i>pairs</i></b> dictionary. Then, print deleted item and the dictionary."
   ]
  },
  {
   "cell_type": "code",
   "execution_count": 3,
   "metadata": {},
   "outputs": [
    {
     "name": "stdout",
     "output_type": "stream",
     "text": [
      "56\n",
      "{'hello': 'fire', 3: 'seven', 'strong': 45}\n"
     ]
    }
   ],
   "source": [
    "delete_one_item = pairs.pop('welcome')\n",
    "print(delete_one_item)\n",
    "print(pairs)"
   ]
  },
  {
   "cell_type": "markdown",
   "metadata": {},
   "source": [
    "### Exercise 4. \n",
    "Print the value of an item where key is 3 in <b><i>pairs</i></b> dicitonary"
   ]
  },
  {
   "cell_type": "code",
   "execution_count": 4,
   "metadata": {},
   "outputs": [
    {
     "name": "stdout",
     "output_type": "stream",
     "text": [
      "seven\n"
     ]
    }
   ],
   "source": [
    "val = pairs[3] \n",
    "\n",
    "print(val)"
   ]
  },
  {
   "cell_type": "markdown",
   "metadata": {},
   "source": [
    "### Exercise 5. \n",
    "Try to find out if the key called 'hello' exist in <b><i>pairs</i></b> dictionary. Print 'key is found' message if the key exists otherwise print 'key is not there'."
   ]
  },
  {
   "cell_type": "code",
   "execution_count": 5,
   "metadata": {},
   "outputs": [
    {
     "name": "stdout",
     "output_type": "stream",
     "text": [
      "Key is found\n"
     ]
    }
   ],
   "source": [
    "if 'hello' in pairs:\n",
    "    print('Key is found')\n",
    "else:\n",
    "    print('Key is not there')"
   ]
  },
  {
   "cell_type": "markdown",
   "metadata": {},
   "source": [
    "### Exercise 6. \n",
    "Create a Test Scores program that gets the name of students and test score from a user. Then, generate a list of students who passed and a list of students who failed where passing test score is 60 or above. "
   ]
  },
  {
   "cell_type": "code",
   "execution_count": 7,
   "metadata": {},
   "outputs": [
    {
     "name": "stdout",
     "output_type": "stream",
     "text": [
      "Enter the name of the student (or 'quit' to stop): mag\n",
      "Enter the test score of the student: 102\n",
      "Enter the name of the student (or 'quit' to stop): gog\n",
      "Enter the test score of the student: 85\n",
      "Enter the name of the student (or 'quit' to stop): tim\n",
      "Enter the test score of the student: 63\n",
      "Enter the name of the student (or 'quit' to stop): bill\n",
      "Enter the test score of the student: 42\n",
      "Enter the name of the student (or 'quit' to stop): ema\n",
      "Enter the test score of the student: 55\n",
      "Enter the name of the student (or 'quit' to stop): lor\n",
      "Enter the test score of the student: 69\n",
      "Enter the name of the student (or 'quit' to stop): quit\n",
      "Students who passed: ['mag', 'gog', 'tim', 'lor']\n",
      "Students who failed: ['bill', 'ema']\n"
     ]
    }
   ],
   "source": [
    "# Initialize empty lists for students who passed and failed\n",
    "passed_students = []\n",
    "failed_students = []\n",
    "\n",
    "while True:\n",
    "    # Get the name of the student\n",
    "    name = input(\"Enter the name of the student (or 'quit' to stop): \")\n",
    "    \n",
    "    # Break the loop if the user wants to stop\n",
    "    if name.lower() == 'quit':\n",
    "        break\n",
    "\n",
    "    # Get the test score of the student\n",
    "    score = int(input(\"Enter the test score of the student: \"))\n",
    "\n",
    "    # Add the student to the passed list if they passed, otherwise add them to the failed list\n",
    "    if score >= 60:\n",
    "        passed_students.append(name)\n",
    "    else:\n",
    "        failed_students.append(name)\n",
    "\n",
    "# Print the list of students who passed and failed\n",
    "print(\"Students who passed:\", passed_students)\n",
    "print(\"Students who failed:\", failed_students)"
   ]
  },
  {
   "cell_type": "code",
   "execution_count": null,
   "metadata": {},
   "outputs": [],
   "source": []
  },
  {
   "cell_type": "markdown",
   "metadata": {},
   "source": [
    "### Exercise 7. \n",
    "\n",
    "Create a Word Counter program that gets a string of text from a user and then counts the number of times a word occrs in the string. \n",
    "\n",
    "The output should look something like this:\n",
    "\n",
    "    The Word Counter Program\n",
    "    \n",
    "    Enter a text string: \n",
    "    Humpty Dumpty sat on a wall, Humpty Dumpty had a great fall. All the king’s horses and all the king’s men couldn’t put Humpty together again.\n",
    "\n",
    "    a : 2\n",
    "    again : 1\n",
    "    all : 2\n",
    "    and : 1\n",
    "    couldn’t : 1\n",
    "    dumpty : 2\n",
    "    fall : 1\n",
    "    great : 1\n",
    "    had : 1\n",
    "    horses : 1\n",
    "    humpty : 3\n",
    "    king’s : 2\n",
    "    men : 1\n",
    "    on : 1\n",
    "    put : 1\n",
    "    sat : 1\n",
    "    the : 2\n",
    "    together : 1\n",
    "    wall : 1\n",
    "\n",
    "    There were total 26 words in the text string   "
   ]
  },
  {
   "cell_type": "code",
   "execution_count": 10,
   "metadata": {},
   "outputs": [
    {
     "name": "stdout",
     "output_type": "stream",
     "text": [
      "Enter a string of text: Humpty Dumpty sat on a wall, Humpty Dumpty had a great fall. All the king’s horses and all the king’s men couldn’t put Humpty together again.\n",
      "'humpty': 3\n",
      "'dumpty': 2\n",
      "'sat': 1\n",
      "'on': 1\n",
      "'a': 2\n",
      "'wall,': 1\n",
      "'had': 1\n",
      "'great': 1\n",
      "'fall.': 1\n",
      "'all': 2\n",
      "'the': 2\n",
      "'king’s': 2\n",
      "'horses': 1\n",
      "'and': 1\n",
      "'men': 1\n",
      "'couldn’t': 1\n",
      "'put': 1\n",
      "'together': 1\n",
      "'again.': 1\n"
     ]
    }
   ],
   "source": [
    "# Get a string of text from the user\n",
    "text = input(\"Enter a string of text: \")\n",
    "\n",
    "# Convert the text to lowercase and split it into words\n",
    "words = text.lower().split()\n",
    "\n",
    "# Create a dictionary to store the word counts\n",
    "word_counts = {}\n",
    "\n",
    "# Count the number of times each word occurs in the text\n",
    "for word in words:\n",
    "    if word in word_counts:\n",
    "        word_counts[word] += 1\n",
    "    else:\n",
    "        word_counts[word] = 1\n",
    "\n",
    "# Print the word counts\n",
    "for word, count in word_counts.items():\n",
    "    print(f\"'{word}': {count}\")"
   ]
  },
  {
   "cell_type": "code",
   "execution_count": null,
   "metadata": {},
   "outputs": [],
   "source": []
  }
 ],
 "metadata": {
  "kernelspec": {
   "display_name": "Python 3 (ipykernel)",
   "language": "python",
   "name": "python3"
  },
  "language_info": {
   "codemirror_mode": {
    "name": "ipython",
    "version": 3
   },
   "file_extension": ".py",
   "mimetype": "text/x-python",
   "name": "python",
   "nbconvert_exporter": "python",
   "pygments_lexer": "ipython3",
   "version": "3.11.4"
  }
 },
 "nbformat": 4,
 "nbformat_minor": 4
}
